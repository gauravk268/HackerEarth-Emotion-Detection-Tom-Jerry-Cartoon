{
 "cells": [
  {
   "cell_type": "code",
   "execution_count": 1,
   "metadata": {},
   "outputs": [
    {
     "name": "stderr",
     "output_type": "stream",
     "text": [
      "Using TensorFlow backend.\n"
     ]
    },
    {
     "name": "stdout",
     "output_type": "stream",
     "text": [
      "['i', 'me', 'my', 'myself', 'we', 'our', 'ours', 'ourselves', 'you', \"you're\", \"you've\", \"you'll\", \"you'd\", 'your', 'yours', 'yourself', 'yourselves', 'he', 'him', 'his', 'himself', 'she', \"she's\", 'her', 'hers', 'herself', 'it', \"it's\", 'its', 'itself', 'they', 'them', 'their', 'theirs', 'themselves', 'what', 'which', 'who', 'whom', 'this', 'that', \"that'll\", 'these', 'those', 'am', 'is', 'are', 'was', 'were', 'be', 'been', 'being', 'have', 'has', 'had', 'having', 'do', 'does', 'did', 'doing', 'a', 'an', 'the', 'and', 'but', 'if', 'or', 'because', 'as', 'until', 'while', 'of', 'at', 'by', 'for', 'with', 'about', 'against', 'between', 'into', 'through', 'during', 'before', 'after', 'above', 'below', 'to', 'from', 'up', 'down', 'in', 'out', 'on', 'off', 'over', 'under', 'again', 'further', 'then', 'once', 'here', 'there', 'when', 'where', 'why', 'how', 'all', 'any', 'both', 'each', 'few', 'more', 'most', 'other', 'some', 'such', 'no', 'nor', 'not', 'only', 'own', 'same', 'so', 'than', 'too', 'very', 's', 't', 'can', 'will', 'just', 'don', \"don't\", 'should', \"should've\", 'now', 'd', 'll', 'm', 'o', 're', 've', 'y', 'ain', 'aren', \"aren't\", 'couldn', \"couldn't\", 'didn', \"didn't\", 'doesn', \"doesn't\", 'hadn', \"hadn't\", 'hasn', \"hasn't\", 'haven', \"haven't\", 'isn', \"isn't\", 'ma', 'mightn', \"mightn't\", 'mustn', \"mustn't\", 'needn', \"needn't\", 'shan', \"shan't\", 'shouldn', \"shouldn't\", 'wasn', \"wasn't\", 'weren', \"weren't\", 'won', \"won't\", 'wouldn', \"wouldn't\"] \n",
      "\n",
      "/home/gaurav/Desktop/Machine_Learning_Projects/Mothers’_Day_with_Machine_Learning/O'Reilly_Based.ipynb\n",
      "/home/gaurav/Desktop/Machine_Learning_Projects/Mothers’_Day_with_Machine_Learning/Mothers’_Day_with_Machine_Learning.ipynb\n",
      "/home/gaurav/Desktop/Machine_Learning_Projects/Mothers’_Day_with_Machine_Learning/dataset/clean_tweet.csv\n",
      "/home/gaurav/Desktop/Machine_Learning_Projects/Mothers’_Day_with_Machine_Learning/dataset/train.csv\n",
      "/home/gaurav/Desktop/Machine_Learning_Projects/Mothers’_Day_with_Machine_Learning/dataset/train_tweet.csv\n",
      "/home/gaurav/Desktop/Machine_Learning_Projects/Mothers’_Day_with_Machine_Learning/dataset/test_tweet.csv\n",
      "/home/gaurav/Desktop/Machine_Learning_Projects/Mothers’_Day_with_Machine_Learning/dataset/test.csv\n",
      "/home/gaurav/Desktop/Machine_Learning_Projects/Mothers’_Day_with_Machine_Learning/.ipynb_checkpoints/Mothers’_Day_with_Machine_Learning-checkpoint.ipynb\n",
      "/home/gaurav/Desktop/Machine_Learning_Projects/Mothers’_Day_with_Machine_Learning/.ipynb_checkpoints/O'Reilly_Based-checkpoint.ipynb\n"
     ]
    }
   ],
   "source": [
    "import os\n",
    "import pandas as pd\n",
    "import numpy as np\n",
    "import matplotlib.pyplot as plt\n",
    "import tensorflow as tf\n",
    "from tensorflow.keras import layers\n",
    "import keras\n",
    "from collections import Counter\n",
    "from keras.preprocessing.sequence import pad_sequences\n",
    "from tqdm import tqdm   # can be used for showing progress bar for any iteration\n",
    "\n",
    "import random\n",
    "import time\n",
    "import re\n",
    "import codecs\n",
    "\n",
    "#Natural Language Toolkit\n",
    "import nltk\n",
    "# nltk.download()\n",
    "\n",
    "from nltk.tokenize import word_tokenize\n",
    "from nltk.corpus import stopwords\n",
    "from nltk import WordNetLemmatizer\n",
    "\n",
    "lemmatizer = WordNetLemmatizer()\n",
    "stop_words = stopwords.words('english')\n",
    "print(stop_words, \"\\n\")\n",
    "\n",
    "for dirname, _,filenames in os.walk('/home/gaurav/Desktop/Machine_Learning_Projects/Mothers’_Day_with_Machine_Learning/'):\n",
    "    for filename in filenames:\n",
    "        print(os.path.join(dirname, filename))"
   ]
  },
  {
   "cell_type": "code",
   "execution_count": 2,
   "metadata": {},
   "outputs": [],
   "source": [
    "def loadGloveModel(File):\n",
    "    print(\"Loading Glove Model: \")\n",
    "    f = open(File, 'r', encoding='utf-8')\n",
    "    gloveModel={}\n",
    "    for line in tqdm(f):\n",
    "        splitLines = line.split()\n",
    "        word = splitLines[0]\n",
    "        wordEmbeddings = np.asarray(splitLines[1:], \"float32\")\n",
    "        gloveModel[word] = wordEmbeddings\n",
    "    print(len(gloveModel), \" words loaded!\")\n",
    "    return gloveModel"
   ]
  },
  {
   "cell_type": "code",
   "execution_count": 3,
   "metadata": {},
   "outputs": [
    {
     "name": "stderr",
     "output_type": "stream",
     "text": [
      "2176it [00:00, 21754.57it/s]"
     ]
    },
    {
     "name": "stdout",
     "output_type": "stream",
     "text": [
      "Loading Glove Model: \n"
     ]
    },
    {
     "name": "stderr",
     "output_type": "stream",
     "text": [
      "400000it [00:17, 22641.69it/s]"
     ]
    },
    {
     "name": "stdout",
     "output_type": "stream",
     "text": [
      "400000  words loaded!\n"
     ]
    },
    {
     "name": "stderr",
     "output_type": "stream",
     "text": [
      "\n"
     ]
    }
   ],
   "source": [
    "File = \"../glove.6B.100d.txt\"\n",
    "\n",
    "gloveModel = loadGloveModel(File)"
   ]
  },
  {
   "cell_type": "code",
   "execution_count": 4,
   "metadata": {},
   "outputs": [
    {
     "data": {
      "text/plain": [
       "'/home/gaurav/Desktop/Machine_Learning_Projects/Mothers’_Day_with_Machine_Learning/dataset'"
      ]
     },
     "execution_count": 4,
     "metadata": {},
     "output_type": "execute_result"
    }
   ],
   "source": [
    "#Changing directory to current working directory\n",
    "\n",
    "DATASET = '/home/gaurav/Desktop/Machine_Learning_Projects/Mothers’_Day_with_Machine_Learning/dataset/'\n",
    "os.chdir(DATASET)\n",
    "os.getcwd()"
   ]
  },
  {
   "cell_type": "code",
   "execution_count": 5,
   "metadata": {},
   "outputs": [
    {
     "data": {
      "text/html": [
       "<div>\n",
       "<style scoped>\n",
       "    .dataframe tbody tr th:only-of-type {\n",
       "        vertical-align: middle;\n",
       "    }\n",
       "\n",
       "    .dataframe tbody tr th {\n",
       "        vertical-align: top;\n",
       "    }\n",
       "\n",
       "    .dataframe thead th {\n",
       "        text-align: right;\n",
       "    }\n",
       "</style>\n",
       "<table border=\"1\" class=\"dataframe\">\n",
       "  <thead>\n",
       "    <tr style=\"text-align: right;\">\n",
       "      <th></th>\n",
       "      <th>original_text</th>\n",
       "      <th>sentiment_class</th>\n",
       "    </tr>\n",
       "  </thead>\n",
       "  <tbody>\n",
       "    <tr>\n",
       "      <th>0</th>\n",
       "      <td>Happy #MothersDay to all you amazing mothers o...</td>\n",
       "      <td>0</td>\n",
       "    </tr>\n",
       "    <tr>\n",
       "      <th>1</th>\n",
       "      <td>Happy Mothers Day Mum - I'm sorry I can't be t...</td>\n",
       "      <td>0</td>\n",
       "    </tr>\n",
       "    <tr>\n",
       "      <th>2</th>\n",
       "      <td>Happy mothers day To all This doing a mothers ...</td>\n",
       "      <td>-1</td>\n",
       "    </tr>\n",
       "    <tr>\n",
       "      <th>3</th>\n",
       "      <td>Happy mothers day to this beautiful woman...ro...</td>\n",
       "      <td>0</td>\n",
       "    </tr>\n",
       "    <tr>\n",
       "      <th>4</th>\n",
       "      <td>Remembering the 3 most amazing ladies who made...</td>\n",
       "      <td>-1</td>\n",
       "    </tr>\n",
       "  </tbody>\n",
       "</table>\n",
       "</div>"
      ],
      "text/plain": [
       "                                       original_text  sentiment_class\n",
       "0  Happy #MothersDay to all you amazing mothers o...                0\n",
       "1  Happy Mothers Day Mum - I'm sorry I can't be t...                0\n",
       "2  Happy mothers day To all This doing a mothers ...               -1\n",
       "3  Happy mothers day to this beautiful woman...ro...                0\n",
       "4  Remembering the 3 most amazing ladies who made...               -1"
      ]
     },
     "execution_count": 5,
     "metadata": {},
     "output_type": "execute_result"
    }
   ],
   "source": [
    "#Loading CSV Training Data\n",
    "\n",
    "train_data = pd.read_csv('./train.csv')\n",
    "train_data = train_data[['original_text', 'sentiment_class']]\n",
    "train_data.head()"
   ]
  },
  {
   "cell_type": "code",
   "execution_count": 6,
   "metadata": {},
   "outputs": [
    {
     "data": {
      "text/html": [
       "<div>\n",
       "<style scoped>\n",
       "    .dataframe tbody tr th:only-of-type {\n",
       "        vertical-align: middle;\n",
       "    }\n",
       "\n",
       "    .dataframe tbody tr th {\n",
       "        vertical-align: top;\n",
       "    }\n",
       "\n",
       "    .dataframe thead th {\n",
       "        text-align: right;\n",
       "    }\n",
       "</style>\n",
       "<table border=\"1\" class=\"dataframe\">\n",
       "  <thead>\n",
       "    <tr style=\"text-align: right;\">\n",
       "      <th></th>\n",
       "      <th>original_text</th>\n",
       "    </tr>\n",
       "  </thead>\n",
       "  <tbody>\n",
       "    <tr>\n",
       "      <th>0</th>\n",
       "      <td>3. Yeah, I once cooked potatoes when I was 3 y...</td>\n",
       "    </tr>\n",
       "    <tr>\n",
       "      <th>1</th>\n",
       "      <td>Happy Mother's Day to all the mums, step-mums,...</td>\n",
       "    </tr>\n",
       "    <tr>\n",
       "      <th>2</th>\n",
       "      <td>I love the people from the UK, however, when I...</td>\n",
       "    </tr>\n",
       "    <tr>\n",
       "      <th>3</th>\n",
       "      <td>Happy 81st Birthday Happy Mother’s Day to my m...</td>\n",
       "    </tr>\n",
       "    <tr>\n",
       "      <th>4</th>\n",
       "      <td>Happy Mothers day to all those wonderful mothe...</td>\n",
       "    </tr>\n",
       "  </tbody>\n",
       "</table>\n",
       "</div>"
      ],
      "text/plain": [
       "                                       original_text\n",
       "0  3. Yeah, I once cooked potatoes when I was 3 y...\n",
       "1  Happy Mother's Day to all the mums, step-mums,...\n",
       "2  I love the people from the UK, however, when I...\n",
       "3  Happy 81st Birthday Happy Mother’s Day to my m...\n",
       "4  Happy Mothers day to all those wonderful mothe..."
      ]
     },
     "execution_count": 6,
     "metadata": {},
     "output_type": "execute_result"
    }
   ],
   "source": [
    "#Loading CSV Test Data\n",
    "\n",
    "test_data = pd.read_csv(\"./test.csv\")\n",
    "test_data = test_data[['original_text']]\n",
    "test_data.head()"
   ]
  },
  {
   "cell_type": "code",
   "execution_count": 7,
   "metadata": {},
   "outputs": [
    {
     "data": {
      "text/html": [
       "<div>\n",
       "<style scoped>\n",
       "    .dataframe tbody tr th:only-of-type {\n",
       "        vertical-align: middle;\n",
       "    }\n",
       "\n",
       "    .dataframe tbody tr th {\n",
       "        vertical-align: top;\n",
       "    }\n",
       "\n",
       "    .dataframe thead th {\n",
       "        text-align: right;\n",
       "    }\n",
       "</style>\n",
       "<table border=\"1\" class=\"dataframe\">\n",
       "  <thead>\n",
       "    <tr style=\"text-align: right;\">\n",
       "      <th></th>\n",
       "      <th>original_text</th>\n",
       "      <th>sentiment_class</th>\n",
       "    </tr>\n",
       "  </thead>\n",
       "  <tbody>\n",
       "    <tr>\n",
       "      <th>0</th>\n",
       "      <td>happy  mothersday to all you amazing mothers o...</td>\n",
       "      <td>0</td>\n",
       "    </tr>\n",
       "    <tr>\n",
       "      <th>1</th>\n",
       "      <td>happy mothers day mum   i'm sorry i can't be t...</td>\n",
       "      <td>0</td>\n",
       "    </tr>\n",
       "    <tr>\n",
       "      <th>2</th>\n",
       "      <td>happy mothers day to all this doing a mothers ...</td>\n",
       "      <td>-1</td>\n",
       "    </tr>\n",
       "    <tr>\n",
       "      <th>3</th>\n",
       "      <td>happy mothers day to this beautiful woman   ro...</td>\n",
       "      <td>0</td>\n",
       "    </tr>\n",
       "    <tr>\n",
       "      <th>4</th>\n",
       "      <td>remembering the 3 most amazing ladies who made...</td>\n",
       "      <td>-1</td>\n",
       "    </tr>\n",
       "  </tbody>\n",
       "</table>\n",
       "</div>"
      ],
      "text/plain": [
       "                                       original_text  sentiment_class\n",
       "0  happy  mothersday to all you amazing mothers o...                0\n",
       "1  happy mothers day mum   i'm sorry i can't be t...                0\n",
       "2  happy mothers day to all this doing a mothers ...               -1\n",
       "3  happy mothers day to this beautiful woman   ro...                0\n",
       "4  remembering the 3 most amazing ladies who made...               -1"
      ]
     },
     "execution_count": 7,
     "metadata": {},
     "output_type": "execute_result"
    }
   ],
   "source": [
    "#Standardizing text in the tweet, removing all types of sybmbols from the tweets\n",
    "\n",
    "def standardize_tweets(tweet, text_field):\n",
    "    tweet[text_field] = tweet[text_field].str.replace(r\"http\\S+\", \"\")\n",
    "    tweet[text_field] = tweet[text_field].str.replace(r'http','')\n",
    "    tweet[text_field] = tweet[text_field].str.replace(r'!','')\n",
    "    tweet[text_field] = tweet[text_field].str.replace(r'@S\\+','')\n",
    "    tweet[text_field] = tweet[text_field].str.replace(r'[^A-Za-z0-9(),!?@\\'\\`\\\"\\_\\n]',' ')\n",
    "    tweet[text_field] = tweet[text_field].str.replace(r'@','at')\n",
    "    tweet[text_field] = tweet[text_field].str.lower()\n",
    "    return tweet\n",
    "   \n",
    "    \n",
    "train_data = standardize_tweets(train_data, \"original_text\")\n",
    "train_data.to_csv(\"train_tweet.csv\")\n",
    "\n",
    "test_data = standardize_tweets(test_data, \"original_text\")\n",
    "test_data.to_csv(\"test_tweet.csv\")\n",
    "\n",
    "train_data.head()"
   ]
  },
  {
   "cell_type": "code",
   "execution_count": 22,
   "metadata": {},
   "outputs": [
    {
     "data": {
      "image/png": "[encoded data removed]",
      "text/plain": [
       "<Figure size 720x720 with 1 Axes>"
      ]
     },
     "metadata": {
      "needs_background": "light"
     },
     "output_type": "display_data"
    },
    {
     "name": "stdout",
     "output_type": "stream",
     "text": [
      "Average length of a sentence:  38.76259659969088\n"
     ]
    }
   ],
   "source": [
    "def plot_length_sentences():\n",
    "    file = pd.read_csv('train_tweet.csv')\n",
    "    tweets = file['original_text']\n",
    "    sentences_length = []\n",
    "    for line in tweets:\n",
    "        words = word_tokenize(line)\n",
    "        sentences_length.append(len(words))\n",
    "        \n",
    "    fig = plt.figure(figsize = (10, 10))\n",
    "    plt.xlabel('Length of sentences')\n",
    "    plt.ylabel('Number of sentences')\n",
    "    plt.hist(sentences_length, range=(0, 80))\n",
    "    plt.show()\n",
    "    \n",
    "    return sentences_length\n",
    "\n",
    "sentences_length = plot_length_sentences()\n",
    "print('Average length of a sentence: ',sum(sentences_length)/len(train_data['original_text']))"
   ]
  },
  {
   "cell_type": "code",
   "execution_count": 18,
   "metadata": {},
   "outputs": [
    {
     "data": {
      "image/png": "[encoded data removed]",
      "text/plain": [
       "<Figure size 432x288 with 1 Axes>"
      ]
     },
     "metadata": {
      "needs_background": "light"
     },
     "output_type": "display_data"
    }
   ],
   "source": [
    "from sklearn.manifold import TSNE\n",
    "\n",
    "tsne = TSNE(n_components=2, random_state=0)\n",
    "words = list(gloveModel.keys())\n",
    "vectors = [gloveModel[word] for word in words]\n",
    "Y = tsne.fit_transform(vectors[:50])\n",
    "plt.scatter(Y[:, 0], Y[:, 1])\n",
    "\n",
    "for label, x, y in zip(words, Y[:,0], Y[:, 1]):\n",
    "    plt.annotate(label, xy=(x, y), xytext=(0, 0), textcoords=\"offset points\")\n",
    "    \n",
    "plt.show()"
   ]
  },
  {
   "cell_type": "code",
   "execution_count": 21,
   "metadata": {},
   "outputs": [
    {
     "data": {
      "text/plain": [
       "(100,)"
      ]
     },
     "execution_count": 21,
     "metadata": {},
     "output_type": "execute_result"
    }
   ],
   "source": [
    "helloIndex = gloveModel['hello']\n",
    "helloIndex.shape"
   ]
  },
  {
   "cell_type": "code",
   "execution_count": 44,
   "metadata": {},
   "outputs": [
    {
     "ename": "SyntaxError",
     "evalue": "invalid syntax (<ipython-input-44-16fca4de4cf5>, line 6)",
     "output_type": "error",
     "traceback": [
      "\u001b[0;36m  File \u001b[0;32m\"<ipython-input-44-16fca4de4cf5>\"\u001b[0;36m, line \u001b[0;32m6\u001b[0m\n\u001b[0;31m    wordVectors[i] = gloveModel[wordsList[i]]\u001b[0m\n\u001b[0m              ^\u001b[0m\n\u001b[0;31mSyntaxError\u001b[0m\u001b[0;31m:\u001b[0m invalid syntax\n"
     ]
    }
   ],
   "source": [
    "wordsList = []\n",
    "key = list(gloveModel)\n",
    "wordVectors = np.zeros((400000, 100))\n",
    "for i in tqdm(range(400000)):\n",
    "    wordsList.append(key[i]\n",
    "    wordVectors[i] = gloveModel[wordsList[i]]"
   ]
  },
  {
   "cell_type": "code",
   "execution_count": 58,
   "metadata": {},
   "outputs": [
    {
     "ename": "AttributeError",
     "evalue": "'list' object has no attribute 'shape'",
     "output_type": "error",
     "traceback": [
      "\u001b[0;31m---------------------------------------------------------------------------\u001b[0m",
      "\u001b[0;31mAttributeError\u001b[0m                            Traceback (most recent call last)",
      "\u001b[0;32m<ipython-input-58-9180cbbc9e88>\u001b[0m in \u001b[0;36m<module>\u001b[0;34m\u001b[0m\n\u001b[1;32m      9\u001b[0m \u001b[0mnum\u001b[0m\u001b[0;34m.\u001b[0m\u001b[0mappend\u001b[0m\u001b[0;34m(\u001b[0m\u001b[0mvalue\u001b[0m\u001b[0;34m)\u001b[0m\u001b[0;34m\u001b[0m\u001b[0;34m\u001b[0m\u001b[0m\n\u001b[1;32m     10\u001b[0m \u001b[0;34m\u001b[0m\u001b[0m\n\u001b[0;32m---> 11\u001b[0;31m \u001b[0mnum\u001b[0m\u001b[0;34m.\u001b[0m\u001b[0mshape\u001b[0m\u001b[0;34m\u001b[0m\u001b[0;34m\u001b[0m\u001b[0m\n\u001b[0m",
      "\u001b[0;31mAttributeError\u001b[0m: 'list' object has no attribute 'shape'"
     ]
    }
   ],
   "source": [
    "num = []\n",
    "\n",
    "value = np.zeros((100, 1))\n",
    "value = gloveModel['hello']\n",
    "num.append(value)\n",
    "\n",
    "value = np.zeros((100, 1))\n",
    "value = gloveModel['hi']\n",
    "num.append(value)\n",
    "\n",
    "num"
   ]
  },
  {
   "cell_type": "code",
   "execution_count": null,
   "metadata": {},
   "outputs": [],
   "source": []
  }
 ],
 "metadata": {
  "kernelspec": {
   "display_name": "Python 3",
   "language": "python",
   "name": "python3"
  },
  "language_info": {
   "codemirror_mode": {
    "name": "ipython",
    "version": 3
   },
   "file_extension": ".py",
   "mimetype": "text/x-python",
   "name": "python",
   "nbconvert_exporter": "python",
   "pygments_lexer": "ipython3",
   "version": "3.7.6"
  }
 },
 "nbformat": 4,
 "nbformat_minor": 4
}
