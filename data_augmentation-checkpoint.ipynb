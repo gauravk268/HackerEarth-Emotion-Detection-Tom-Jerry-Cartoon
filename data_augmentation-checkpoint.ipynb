{
 "cells": [
  {
   "cell_type": "code",
   "execution_count": 1,
   "metadata": {},
   "outputs": [],
   "source": [
    "import os\n",
    "import pandas as pd\n",
    "\n",
    "Path_Data = 'D:\\Practice\\Git\\HackerEarth-Emotion-Detection-Tom-Jerry-Cartoon\\Dataset'\n",
    "os.chdir(Path_Data)\n",
    "\n",
    "# cd \"D:\\Practice\\Git\\HackerEarth-Emotion-Detection-Tom-Jerry-Cartoon\\Dataset\"\n",
    "\n",
    "cols_list = [\"Frame_ID\", \"Emotion\"]\n",
    "data = pd.read_csv(\"Train - Copy.csv\", usecols=cols_list)"
   ]
  },
  {
   "cell_type": "code",
   "execution_count": 11,
   "metadata": {},
   "outputs": [
    {
     "ename": "IndentationError",
     "evalue": "unindent does not match any outer indentation level (<tokenize>, line 36)",
     "output_type": "error",
     "traceback": [
      "\u001b[1;36m  File \u001b[1;32m\"<tokenize>\"\u001b[1;36m, line \u001b[1;32m36\u001b[0m\n\u001b[1;33m    i+=1\u001b[0m\n\u001b[1;37m    ^\u001b[0m\n\u001b[1;31mIndentationError\u001b[0m\u001b[1;31m:\u001b[0m unindent does not match any outer indentation level\n"
     ]
    }
   ],
   "source": [
    "#Using Data augmentation to increase the number of training data\n",
    "\n",
    "# Importing necessary functions\n",
    "from keras.preprocessing.image import ImageDataGenerator, array_to_img, img_to_array, load_img\n",
    "   \n",
    "# Initialising the ImageDataGenerator class. \n",
    "# We will pass in the augmentation parameters in the constructor. \n",
    "datagen = ImageDataGenerator( \n",
    "        rotation_range = 40, \n",
    "        shear_range = 0.2, \n",
    "        zoom_range = 0.2, \n",
    "        horizontal_flip = True, \n",
    "        brightness_range = (0.5, 1.5)) \n",
    "\n",
    "\n",
    "Path = 'D:\\Practice\\Git\\HackerEarth-Emotion-Detection-Tom-Jerry-Cartoon\\Dataset\\Augmented_Image'\n",
    "\n",
    "value = []\n",
    "\n",
    "cols_list = [\"Frame_ID\", \"Emotion\"]\n",
    "data = pd.read_csv(\"Train - Copy.csv\", usecols=cols_list)\n",
    "\n",
    "forward_count=0\n",
    "num_trainImage = 298\n",
    "count = 298\n",
    "while(num_trainImage):\n",
    "    img = load_img('frame%d.jpg' % forward_count)  \n",
    "    x = img_to_array(img) \n",
    "    x = x.reshape((1, ) + x.shape)  \n",
    "    \n",
    "    i = 0\n",
    "    for batch in datagen.flow(x, batch_size = 1, \n",
    "                            save_to_dir = Path,  \n",
    "                            save_prefix ='frame%d' % count, save_format ='jpg'): \n",
    "                            value.append(data[\"Emotion\"][forward_count])\n",
    "        i+=1\n",
    "        if i > 5:\n",
    "            break\n",
    "\n",
    "    num_trainImage -= 1\n",
    "    forward_count+=1"
   ]
  },
  {
   "cell_type": "code",
   "execution_count": 5,
   "metadata": {},
   "outputs": [
    {
     "data": {
      "text/plain": [
       "'frame0.jpg'"
      ]
     },
     "execution_count": 5,
     "metadata": {},
     "output_type": "execute_result"
    }
   ],
   "source": [
    "data[\"Frame_ID\"][0]"
   ]
  },
  {
   "cell_type": "code",
   "execution_count": null,
   "metadata": {},
   "outputs": [],
   "source": []
  }
 ],
 "metadata": {
  "kernelspec": {
   "display_name": "Python 3",
   "language": "python",
   "name": "python3"
  },
  "language_info": {
   "codemirror_mode": {
    "name": "ipython",
    "version": 3
   },
   "file_extension": ".py",
   "mimetype": "text/x-python",
   "name": "python",
   "nbconvert_exporter": "python",
   "pygments_lexer": "ipython3",
   "version": "3.7.6"
  }
 },
 "nbformat": 4,
 "nbformat_minor": 4
}
