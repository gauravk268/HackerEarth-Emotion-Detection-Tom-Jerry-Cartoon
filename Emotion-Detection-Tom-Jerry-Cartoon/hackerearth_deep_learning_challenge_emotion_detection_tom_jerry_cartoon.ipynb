{
 "cells": [
  {
   "cell_type": "markdown",
   "metadata": {
    "colab_type": "text",
    "id": "view-in-github"
   },
   "source": [
    "<a href=\"https://colab.research.google.com/github/gauravk268/HackerEarth-Emotion-Detection-Tom-Jerry-Cartoon/blob/master/hackerearth_deep_learning_challenge_emotion_detection_tom_jerry_cartoon.ipynb\" target=\"_parent\"><img src=\"https://colab.research.google.com/assets/colab-badge.svg\" alt=\"Open In Colab\"/></a>"
   ]
  },
  {
   "cell_type": "markdown",
   "metadata": {},
   "source": [
    "# Problem & Dataset\n",
    "\n",
    "Problem: https://www.hackerearth.com/challenges/competitive/hackerearth-deep-learning-challenge-emotion-detection-tom-jerry-cartoon/"
   ]
  },
  {
   "cell_type": "code",
   "execution_count": 1,
   "metadata": {
    "colab": {
     "base_uri": "https://localhost:8080/",
     "height": 525
    },
    "colab_type": "code",
    "id": "b-e9KXEWB2PN",
    "outputId": "b5e5e5b7-6613-4948-bbbf-174a7f848b7b"
   },
   "outputs": [
    {
     "name": "stderr",
     "output_type": "stream",
     "text": [
      "Using TensorFlow backend.\n",
      "/usr/local/lib/python3.6/dist-packages/tensorflow/python/framework/dtypes.py:516: FutureWarning: Passing (type, 1) or '1type' as a synonym of type is deprecated; in a future version of numpy, it will be understood as (type, (1,)) / '(1,)type'.\n",
      "  _np_qint8 = np.dtype([(\"qint8\", np.int8, 1)])\n",
      "/usr/local/lib/python3.6/dist-packages/tensorflow/python/framework/dtypes.py:517: FutureWarning: Passing (type, 1) or '1type' as a synonym of type is deprecated; in a future version of numpy, it will be understood as (type, (1,)) / '(1,)type'.\n",
      "  _np_quint8 = np.dtype([(\"quint8\", np.uint8, 1)])\n",
      "/usr/local/lib/python3.6/dist-packages/tensorflow/python/framework/dtypes.py:518: FutureWarning: Passing (type, 1) or '1type' as a synonym of type is deprecated; in a future version of numpy, it will be understood as (type, (1,)) / '(1,)type'.\n",
      "  _np_qint16 = np.dtype([(\"qint16\", np.int16, 1)])\n",
      "/usr/local/lib/python3.6/dist-packages/tensorflow/python/framework/dtypes.py:519: FutureWarning: Passing (type, 1) or '1type' as a synonym of type is deprecated; in a future version of numpy, it will be understood as (type, (1,)) / '(1,)type'.\n",
      "  _np_quint16 = np.dtype([(\"quint16\", np.uint16, 1)])\n",
      "/usr/local/lib/python3.6/dist-packages/tensorflow/python/framework/dtypes.py:520: FutureWarning: Passing (type, 1) or '1type' as a synonym of type is deprecated; in a future version of numpy, it will be understood as (type, (1,)) / '(1,)type'.\n",
      "  _np_qint32 = np.dtype([(\"qint32\", np.int32, 1)])\n",
      "/usr/local/lib/python3.6/dist-packages/tensorflow/python/framework/dtypes.py:525: FutureWarning: Passing (type, 1) or '1type' as a synonym of type is deprecated; in a future version of numpy, it will be understood as (type, (1,)) / '(1,)type'.\n",
      "  np_resource = np.dtype([(\"resource\", np.ubyte, 1)])\n",
      "/usr/local/lib/python3.6/dist-packages/tensorboard/compat/tensorflow_stub/dtypes.py:541: FutureWarning: Passing (type, 1) or '1type' as a synonym of type is deprecated; in a future version of numpy, it will be understood as (type, (1,)) / '(1,)type'.\n",
      "  _np_qint8 = np.dtype([(\"qint8\", np.int8, 1)])\n",
      "/usr/local/lib/python3.6/dist-packages/tensorboard/compat/tensorflow_stub/dtypes.py:542: FutureWarning: Passing (type, 1) or '1type' as a synonym of type is deprecated; in a future version of numpy, it will be understood as (type, (1,)) / '(1,)type'.\n",
      "  _np_quint8 = np.dtype([(\"quint8\", np.uint8, 1)])\n",
      "/usr/local/lib/python3.6/dist-packages/tensorboard/compat/tensorflow_stub/dtypes.py:543: FutureWarning: Passing (type, 1) or '1type' as a synonym of type is deprecated; in a future version of numpy, it will be understood as (type, (1,)) / '(1,)type'.\n",
      "  _np_qint16 = np.dtype([(\"qint16\", np.int16, 1)])\n",
      "/usr/local/lib/python3.6/dist-packages/tensorboard/compat/tensorflow_stub/dtypes.py:544: FutureWarning: Passing (type, 1) or '1type' as a synonym of type is deprecated; in a future version of numpy, it will be understood as (type, (1,)) / '(1,)type'.\n",
      "  _np_quint16 = np.dtype([(\"quint16\", np.uint16, 1)])\n",
      "/usr/local/lib/python3.6/dist-packages/tensorboard/compat/tensorflow_stub/dtypes.py:545: FutureWarning: Passing (type, 1) or '1type' as a synonym of type is deprecated; in a future version of numpy, it will be understood as (type, (1,)) / '(1,)type'.\n",
      "  _np_qint32 = np.dtype([(\"qint32\", np.int32, 1)])\n",
      "/usr/local/lib/python3.6/dist-packages/tensorboard/compat/tensorflow_stub/dtypes.py:550: FutureWarning: Passing (type, 1) or '1type' as a synonym of type is deprecated; in a future version of numpy, it will be understood as (type, (1,)) / '(1,)type'.\n",
      "  np_resource = np.dtype([(\"resource\", np.ubyte, 1)])\n"
     ]
    },
    {
     "data": {
      "text/html": [
       "<p style=\"color: red;\">\n",
       "The default version of TensorFlow in Colab will switch to TensorFlow 2.x on the 27th of March, 2020.<br>\n",
       "We recommend you <a href=\"https://www.tensorflow.org/guide/migrate\" target=\"_blank\">upgrade</a> now\n",
       "or ensure your notebook will continue to use TensorFlow 1.x via the <code>%tensorflow_version 1.x</code> magic:\n",
       "<a href=\"https://colab.research.google.com/notebooks/tensorflow_version.ipynb\" target=\"_blank\">more info</a>.</p>\n"
      ],
      "text/plain": [
       "<IPython.core.display.HTML object>"
      ]
     },
     "metadata": {
      "tags": []
     },
     "output_type": "display_data"
    },
    {
     "name": "stdout",
     "output_type": "stream",
     "text": [
      "Drive already mounted at /content/drive; to attempt to forcibly remount, call drive.mount(\"/content/drive\", force_remount=True).\n"
     ]
    }
   ],
   "source": [
    "#importing libraries\n",
    "\n",
    "import cv2     # for capturing videos\n",
    "import math   # for mathematical operations\n",
    "import matplotlib.pyplot as plt    # for plotting the images\n",
    "%matplotlib inline\n",
    "import pandas as pd\n",
    "from keras.preprocessing import image   # for preprocessing the images\n",
    "import numpy as np    # for mathematical operations\n",
    "from keras.utils import np_utils\n",
    "from skimage.transform import resize   # for resizing images\n",
    "import tensorflow as tf\n",
    "import os\n",
    "from google.colab import drive\n",
    "drive.mount('/content/drive')"
   ]
  },
  {
   "cell_type": "code",
   "execution_count": 0,
   "metadata": {
    "colab": {},
    "colab_type": "code",
    "id": "4WoomvuEB6N3"
   },
   "outputs": [],
   "source": [
    "# #code for sampling image from the video @ 5fps\n",
    "# #to be used only once for sampling video\n",
    "\n",
    "# count = 0\n",
    "# videoFile = \"https://drive.google.com/open?id=1ru9a2wbKGXCaWM9cdmbw7aIS4lNFT9tP\"\n",
    "# cap = cv2.VideoCapture(videoFile)   # capturing the video from the given path\n",
    "# frameRate = cap.get(5) #frame rate\n",
    "# x=1\n",
    "\n",
    "# while(cap.isOpened()):\n",
    "#     frameId = cap.get(1) #current frame number\n",
    "#     ret, frame = cap.read()\n",
    "#     cv2.imshow(\"Sample\", frame)\n",
    "#     if (ret != True):\n",
    "#         break\n",
    "#     if (frameId % math.floor(frameRate) == 0):\n",
    "#         filename =\"/content/drive/My Drive/Colab Notebooks/Sampled_Image_Train/frame%d.jpeg\" % count;count+=1\n",
    "#         count+=1\n",
    "#         cv2.imwrite(filename, frame)\n",
    "#         print(\"*\", end=\"\")\n",
    "    \n",
    "# cap.release()\n",
    "# cv2.destroyAllWindows()\n",
    "# print (\"Done!\")"
   ]
  },
  {
   "cell_type": "code",
   "execution_count": 0,
   "metadata": {
    "colab": {},
    "colab_type": "code",
    "id": "jCzH9Tk0HWrQ"
   },
   "outputs": [],
   "source": [
    "#changing path to the sampled image folder\n",
    "\n",
    "PATH_OF_TRAIN_IMAGE= '/content/drive/My\\ Drive/Colab\\ Notebooks/Sampled_Image_Train'"
   ]
  },
  {
   "cell_type": "code",
   "execution_count": 4,
   "metadata": {
    "colab": {
     "base_uri": "https://localhost:8080/",
     "height": 34
    },
    "colab_type": "code",
    "id": "qPl4--VkvC0f",
    "outputId": "ca8af58a-1506-4589-d34f-bc87d71b2ef0"
   },
   "outputs": [
    {
     "name": "stdout",
     "output_type": "stream",
     "text": [
      "/content/drive/My Drive/Colab Notebooks/Sampled_Image_Train\n"
     ]
    }
   ],
   "source": [
    "cd {PATH_OF_TRAIN_IMAGE}"
   ]
  },
  {
   "cell_type": "code",
   "execution_count": 5,
   "metadata": {
    "colab": {
     "base_uri": "https://localhost:8080/",
     "height": 257
    },
    "colab_type": "code",
    "id": "RomtyilbucUW",
    "outputId": "a4f51a15-fc99-46b1-e5a0-977a753b2f7d"
   },
   "outputs": [
    {
     "data": {
      "text/plain": [
       "<matplotlib.image.AxesImage at 0x7fa33ca5ccf8>"
      ]
     },
     "execution_count": 5,
     "metadata": {
      "tags": []
     },
     "output_type": "execute_result"
    },
    {
     "data": {
      "image/png": "[encoded data removed]",
      "text/plain": [
       "<Figure size 432x288 with 1 Axes>"
      ]
     },
     "metadata": {
      "tags": []
     },
     "output_type": "display_data"
    }
   ],
   "source": [
    "img = plt.imread('frame0.jpg')   # reading image using its name\n",
    "plt.imshow(img)"
   ]
  },
  {
   "cell_type": "code",
   "execution_count": 0,
   "metadata": {
    "colab": {},
    "colab_type": "code",
    "id": "sR-Mob4dx873"
   },
   "outputs": [],
   "source": [
    "#loading training data\n",
    "\n",
    "cols_list = [\"Frame_ID\", \"Emotion\"]\n",
    "\n",
    "data = pd.read_csv(\"Copy of Train.csv\", usecols=cols_list)"
   ]
  },
  {
   "cell_type": "code",
   "execution_count": 0,
   "metadata": {
    "colab": {},
    "colab_type": "code",
    "id": "Qr0mThfMyeOb"
   },
   "outputs": [],
   "source": [
    "X = []\n",
    "for img_name in data[\"Frame_ID\"]:\n",
    "    img = plt.imread(\"\" + img_name)\n",
    "    X.append(img)\n",
    "\n",
    "X = np.array(X)"
   ]
  },
  {
   "cell_type": "code",
   "execution_count": 0,
   "metadata": {
    "colab": {},
    "colab_type": "code",
    "id": "xsU_SHtR0OkH"
   },
   "outputs": [],
   "source": [
    "'''\n",
    "\n",
    "1 Angry\n",
    "2 Happy\n",
    "3 Sad\n",
    "4 Surprised\n",
    "5 Unknown\n",
    "\n",
    "'''\n",
    "\n",
    "\n",
    "y = []\n",
    "\n",
    "value = 0\n",
    "\n",
    "for i in data[\"Emotion\"]:\n",
    "    if i == 'angry':\n",
    "        value = 1\n",
    "    if i == 'happy':\n",
    "        value = 2\n",
    "    if i == 'sad':\n",
    "        value = 3\n",
    "    if i == 'surprised':\n",
    "        value = 4\n",
    "    if i == 'unknown':\n",
    "        value = 5\n",
    "\n",
    "    y.append(value)\n",
    "\n",
    "dummy_y = np_utils.to_categorical(y)"
   ]
  },
  {
   "cell_type": "code",
   "execution_count": 0,
   "metadata": {
    "colab": {},
    "colab_type": "code",
    "id": "gZGfWIEPH4mS"
   },
   "outputs": [],
   "source": [
    "#reshaping images to 224*224*3 to be used for VGG16 pretrained model\n",
    "\n",
    "image = []\n",
    "\n",
    "for i in range(0, X.shape[0]):\n",
    "\n",
    "    a = resize(X[i], preserve_range=True, output_shape=(224,224)).astype(int)\n",
    "    image.append(a)\n",
    "\n",
    "X = np.array(image)"
   ]
  },
  {
   "cell_type": "code",
   "execution_count": 0,
   "metadata": {
    "colab": {},
    "colab_type": "code",
    "id": "PcxkLuStN35j"
   },
   "outputs": [],
   "source": [
    "#before passing any input to the model, we must preprocess it as per the model’s requirement\n",
    "\n",
    "from keras.applications.vgg16 import preprocess_input\n",
    "X = preprocess_input(X, mode='tf')\n"
   ]
  },
  {
   "cell_type": "code",
   "execution_count": 0,
   "metadata": {
    "colab": {},
    "colab_type": "code",
    "id": "ZJerIG2bOlkl"
   },
   "outputs": [],
   "source": [
    "# splitting the set of training examplws into training and validation set\n",
    "# https://scikit-learn.org/stable/modules/generated/sklearn.model_selection.train_test_split.html\n",
    "\n",
    "from sklearn.model_selection import train_test_split\n",
    "X_train, X_valid, Y_train, Y_valid = train_test_split(X, dummy_y, test_size = 0.3, random_state = 42)"
   ]
  },
  {
   "cell_type": "code",
   "execution_count": 12,
   "metadata": {
    "colab": {
     "base_uri": "https://localhost:8080/",
     "height": 357
    },
    "colab_type": "code",
    "id": "_-p2wjnjRL0i",
    "outputId": "4d2cc85a-12ae-4590-8235-7e6ae691eba3"
   },
   "outputs": [
    {
     "name": "stdout",
     "output_type": "stream",
     "text": [
      "Requirement already satisfied: tensorflow==1.14.0 in /usr/local/lib/python3.6/dist-packages (1.14.0)\n",
      "Requirement already satisfied: google-pasta>=0.1.6 in /usr/local/lib/python3.6/dist-packages (from tensorflow==1.14.0) (0.2.0)\n",
      "Requirement already satisfied: absl-py>=0.7.0 in /usr/local/lib/python3.6/dist-packages (from tensorflow==1.14.0) (0.9.0)\n",
      "Requirement already satisfied: numpy<2.0,>=1.14.5 in /usr/local/lib/python3.6/dist-packages (from tensorflow==1.14.0) (1.18.2)\n",
      "Requirement already satisfied: astor>=0.6.0 in /usr/local/lib/python3.6/dist-packages (from tensorflow==1.14.0) (0.8.1)\n",
      "Requirement already satisfied: protobuf>=3.6.1 in /usr/local/lib/python3.6/dist-packages (from tensorflow==1.14.0) (3.10.0)\n",
      "Requirement already satisfied: six>=1.10.0 in /usr/local/lib/python3.6/dist-packages (from tensorflow==1.14.0) (1.12.0)\n",
      "Requirement already satisfied: grpcio>=1.8.6 in /usr/local/lib/python3.6/dist-packages (from tensorflow==1.14.0) (1.27.2)\n",
      "Requirement already satisfied: keras-preprocessing>=1.0.5 in /usr/local/lib/python3.6/dist-packages (from tensorflow==1.14.0) (1.1.0)\n",
      "Requirement already satisfied: gast>=0.2.0 in /usr/local/lib/python3.6/dist-packages (from tensorflow==1.14.0) (0.3.3)\n",
      "Requirement already satisfied: tensorflow-estimator<1.15.0rc0,>=1.14.0rc0 in /usr/local/lib/python3.6/dist-packages (from tensorflow==1.14.0) (1.14.0)\n",
      "Requirement already satisfied: termcolor>=1.1.0 in /usr/local/lib/python3.6/dist-packages (from tensorflow==1.14.0) (1.1.0)\n",
      "Requirement already satisfied: wheel>=0.26 in /usr/local/lib/python3.6/dist-packages (from tensorflow==1.14.0) (0.34.2)\n",
      "Requirement already satisfied: wrapt>=1.11.1 in /usr/local/lib/python3.6/dist-packages (from tensorflow==1.14.0) (1.12.1)\n",
      "Requirement already satisfied: keras-applications>=1.0.6 in /usr/local/lib/python3.6/dist-packages (from tensorflow==1.14.0) (1.0.8)\n",
      "Requirement already satisfied: tensorboard<1.15.0,>=1.14.0 in /usr/local/lib/python3.6/dist-packages (from tensorflow==1.14.0) (1.14.0)\n",
      "Requirement already satisfied: setuptools in /usr/local/lib/python3.6/dist-packages (from protobuf>=3.6.1->tensorflow==1.14.0) (46.0.0)\n",
      "Requirement already satisfied: h5py in /usr/local/lib/python3.6/dist-packages (from keras-applications>=1.0.6->tensorflow==1.14.0) (2.10.0)\n",
      "Requirement already satisfied: markdown>=2.6.8 in /usr/local/lib/python3.6/dist-packages (from tensorboard<1.15.0,>=1.14.0->tensorflow==1.14.0) (3.2.1)\n",
      "Requirement already satisfied: werkzeug>=0.11.15 in /usr/local/lib/python3.6/dist-packages (from tensorboard<1.15.0,>=1.14.0->tensorflow==1.14.0) (1.0.0)\n"
     ]
    }
   ],
   "source": [
    "!pip install tensorflow==1.14.0     \n",
    "\n",
    "from keras.models import Sequential     # https://keras.io/getting-started/sequential-model-guide/\n",
    "from keras.applications.vgg16 import VGG16  # https://keras.io/applications/\n",
    "from keras.layers import Dense, InputLayer, Dropout "
   ]
  },
  {
   "cell_type": "code",
   "execution_count": 13,
   "metadata": {
    "colab": {
     "base_uri": "https://localhost:8080/",
     "height": 275
    },
    "colab_type": "code",
    "id": "auzSCizmRyGF",
    "outputId": "fedb3d7c-fdaf-4e52-a48f-613f13a38abe"
   },
   "outputs": [
    {
     "name": "stdout",
     "output_type": "stream",
     "text": [
      "WARNING:tensorflow:From /usr/local/lib/python3.6/dist-packages/keras/backend/tensorflow_backend.py:66: The name tf.get_default_graph is deprecated. Please use tf.compat.v1.get_default_graph instead.\n",
      "\n",
      "WARNING:tensorflow:From /usr/local/lib/python3.6/dist-packages/keras/backend/tensorflow_backend.py:541: The name tf.placeholder is deprecated. Please use tf.compat.v1.placeholder instead.\n",
      "\n",
      "WARNING:tensorflow:From /usr/local/lib/python3.6/dist-packages/keras/backend/tensorflow_backend.py:4432: The name tf.random_uniform is deprecated. Please use tf.random.uniform instead.\n",
      "\n",
      "WARNING:tensorflow:From /usr/local/lib/python3.6/dist-packages/keras/backend/tensorflow_backend.py:4267: The name tf.nn.max_pool is deprecated. Please use tf.nn.max_pool2d instead.\n",
      "\n",
      "Downloading data from https://github.com/fchollet/deep-learning-models/releases/download/v0.1/vgg16_weights_tf_dim_ordering_tf_kernels_notop.h5\n",
      "58892288/58889256 [==============================] - 5s 0us/step\n",
      "WARNING:tensorflow:From /usr/local/lib/python3.6/dist-packages/keras/backend/tensorflow_backend.py:190: The name tf.get_default_session is deprecated. Please use tf.compat.v1.get_default_session instead.\n",
      "\n",
      "WARNING:tensorflow:From /usr/local/lib/python3.6/dist-packages/keras/backend/tensorflow_backend.py:197: The name tf.ConfigProto is deprecated. Please use tf.compat.v1.ConfigProto instead.\n",
      "\n"
     ]
    }
   ],
   "source": [
    "# now loading the VGG16 pretrained model and store it as base_model\n",
    "\n",
    "base_model = VGG16(weights='imagenet', include_top=False, input_shape=(224, 224, 3))\n",
    "\n",
    "# include_top=False to remove the top layer"
   ]
  },
  {
   "cell_type": "code",
   "execution_count": 14,
   "metadata": {
    "colab": {
     "base_uri": "https://localhost:8080/",
     "height": 34
    },
    "colab_type": "code",
    "id": "EGw27nDbTDUd",
    "outputId": "72ee5574-a65c-48b5-ca41-285159d1670b"
   },
   "outputs": [
    {
     "data": {
      "text/plain": [
       "((208, 7, 7, 512), (90, 7, 7, 512))"
      ]
     },
     "execution_count": 14,
     "metadata": {
      "tags": []
     },
     "output_type": "execute_result"
    }
   ],
   "source": [
    "#  make predictions using this model for X_train and X_valid, get the features, and then using those features to retrain the model\n",
    "\n",
    "X_train = base_model.predict(X_train)\n",
    "X_valid = base_model.predict(X_valid)\n",
    "\n",
    "X_train.shape, X_valid.shape"
   ]
  },
  {
   "cell_type": "code",
   "execution_count": 0,
   "metadata": {
    "colab": {},
    "colab_type": "code",
    "id": "LB3woEQEaK0H"
   },
   "outputs": [],
   "source": [
    "#  In order to pass it to our neural network, we have to reshape it to 1-D\n",
    "\n",
    "X_train = X_train.reshape(208, 7*7*512)\n",
    "X_valid = X_valid.reshape(90, 7*7*512)"
   ]
  },
  {
   "cell_type": "code",
   "execution_count": 0,
   "metadata": {
    "colab": {},
    "colab_type": "code",
    "id": "umRp03Pkar3w"
   },
   "outputs": [],
   "source": [
    "# preprocess the images and make them zero-centered which helps the model to converge faster.\n",
    "\n",
    "train = X_train / X_train.max()\n",
    "X_valid = X_valid / X_train.max()"
   ]
  },
  {
   "cell_type": "code",
   "execution_count": 0,
   "metadata": {
    "colab": {},
    "colab_type": "code",
    "id": "WU31y6ufbIAD"
   },
   "outputs": [],
   "source": [
    "'''\n",
    "\n",
    "Finally, we will build our model. This step can be divided into 3 sub-steps:\n",
    "\n",
    "Building the model\n",
    "Compiling the model\n",
    "Training the model\n",
    "\n",
    "'''\n",
    "\n",
    "# Building the model\n",
    "\n",
    "model = Sequential()\n",
    "model.add(InputLayer((7*7*512, )))\n",
    "model.add(Dense(units = 1024, activation='sigmoid'))\n",
    "model.add(Dense(5, activation='softmax'))"
   ]
  },
  {
   "cell_type": "code",
   "execution_count": 18,
   "metadata": {
    "colab": {
     "base_uri": "https://localhost:8080/",
     "height": 221
    },
    "colab_type": "code",
    "id": "tTyK8Wc0b36D",
    "outputId": "1b282f0a-a1fc-4696-bd16-15cf5d618112"
   },
   "outputs": [
    {
     "name": "stdout",
     "output_type": "stream",
     "text": [
      "Model: \"sequential_1\"\n",
      "_________________________________________________________________\n",
      "Layer (type)                 Output Shape              Param #   \n",
      "=================================================================\n",
      "dense_1 (Dense)              (None, 1024)              25691136  \n",
      "_________________________________________________________________\n",
      "dense_2 (Dense)              (None, 5)                 5125      \n",
      "=================================================================\n",
      "Total params: 25,696,261\n",
      "Trainable params: 25,696,261\n",
      "Non-trainable params: 0\n",
      "_________________________________________________________________\n"
     ]
    }
   ],
   "source": [
    "model.summary()"
   ]
  },
  {
   "cell_type": "code",
   "execution_count": 19,
   "metadata": {
    "colab": {
     "base_uri": "https://localhost:8080/",
     "height": 71
    },
    "colab_type": "code",
    "id": "oasKlMw8cB6K",
    "outputId": "a2ea8fb9-3c99-499b-a810-9197087007be"
   },
   "outputs": [
    {
     "name": "stdout",
     "output_type": "stream",
     "text": [
      "WARNING:tensorflow:From /usr/local/lib/python3.6/dist-packages/keras/optimizers.py:793: The name tf.train.Optimizer is deprecated. Please use tf.compat.v1.train.Optimizer instead.\n",
      "\n"
     ]
    }
   ],
   "source": [
    "# compiling the model\n",
    "\n",
    "model.compile(loss = 'categorical_crossentropy', optimizer='adam', metrics=['accuracy'])"
   ]
  },
  {
   "cell_type": "code",
   "execution_count": 20,
   "metadata": {
    "colab": {
     "base_uri": "https://localhost:8080/",
     "height": 1000
    },
    "colab_type": "code",
    "id": "HTT9TtascWaX",
    "outputId": "89fbee3e-3d30-443f-bfb9-91b0d73ea6df"
   },
   "outputs": [
    {
     "name": "stdout",
     "output_type": "stream",
     "text": [
      "WARNING:tensorflow:From /usr/local/lib/python3.6/dist-packages/tensorflow/python/ops/math_grad.py:1250: add_dispatch_support.<locals>.wrapper (from tensorflow.python.ops.array_ops) is deprecated and will be removed in a future version.\n",
      "Instructions for updating:\n",
      "Use tf.where in 2.0, which has the same broadcast rule as np.where\n",
      "Train on 208 samples, validate on 90 samples\n",
      "Epoch 1/100\n",
      "208/208 [==============================] - 3s 16ms/step - loss: 1.4611 - acc: 0.3990 - val_loss: 1.2238 - val_acc: 0.4333\n",
      "Epoch 2/100\n",
      "208/208 [==============================] - 3s 12ms/step - loss: 0.7021 - acc: 0.6971 - val_loss: 1.2725 - val_acc: 0.5111\n",
      "Epoch 3/100\n",
      "208/208 [==============================] - 3s 12ms/step - loss: 0.4824 - acc: 0.8462 - val_loss: 1.0073 - val_acc: 0.6000\n",
      "Epoch 4/100\n",
      "208/208 [==============================] - 3s 12ms/step - loss: 0.3387 - acc: 0.8750 - val_loss: 1.0342 - val_acc: 0.6778\n",
      "Epoch 5/100\n",
      "208/208 [==============================] - 3s 12ms/step - loss: 0.2250 - acc: 0.9423 - val_loss: 1.0342 - val_acc: 0.6667\n",
      "Epoch 6/100\n",
      "208/208 [==============================] - 3s 12ms/step - loss: 0.1706 - acc: 0.9663 - val_loss: 1.0334 - val_acc: 0.6667\n",
      "Epoch 7/100\n",
      "208/208 [==============================] - 3s 12ms/step - loss: 0.1499 - acc: 0.9615 - val_loss: 0.9976 - val_acc: 0.6444\n",
      "Epoch 8/100\n",
      "208/208 [==============================] - 3s 12ms/step - loss: 0.1213 - acc: 0.9808 - val_loss: 1.0315 - val_acc: 0.6556\n",
      "Epoch 9/100\n",
      "208/208 [==============================] - 3s 13ms/step - loss: 0.1011 - acc: 0.9760 - val_loss: 1.0620 - val_acc: 0.6556\n",
      "Epoch 10/100\n",
      "208/208 [==============================] - 3s 12ms/step - loss: 0.0949 - acc: 0.9712 - val_loss: 1.0970 - val_acc: 0.6556\n",
      "Epoch 11/100\n",
      "208/208 [==============================] - 3s 12ms/step - loss: 0.0818 - acc: 0.9760 - val_loss: 1.0384 - val_acc: 0.6778\n",
      "Epoch 12/100\n",
      "208/208 [==============================] - 3s 13ms/step - loss: 0.0813 - acc: 0.9808 - val_loss: 1.0473 - val_acc: 0.6778\n",
      "Epoch 13/100\n",
      "208/208 [==============================] - 3s 12ms/step - loss: 0.0724 - acc: 0.9808 - val_loss: 1.1661 - val_acc: 0.6778\n",
      "Epoch 14/100\n",
      "208/208 [==============================] - 3s 12ms/step - loss: 0.0684 - acc: 0.9856 - val_loss: 1.0787 - val_acc: 0.6667\n",
      "Epoch 15/100\n",
      "208/208 [==============================] - 3s 12ms/step - loss: 0.0705 - acc: 0.9760 - val_loss: 1.1351 - val_acc: 0.6778\n",
      "Epoch 16/100\n",
      "208/208 [==============================] - 3s 12ms/step - loss: 0.0685 - acc: 0.9808 - val_loss: 1.0692 - val_acc: 0.6556\n",
      "Epoch 17/100\n",
      "208/208 [==============================] - 3s 12ms/step - loss: 0.0541 - acc: 0.9856 - val_loss: 1.1384 - val_acc: 0.6667\n",
      "Epoch 18/100\n",
      "208/208 [==============================] - 3s 12ms/step - loss: 0.0588 - acc: 0.9904 - val_loss: 1.1119 - val_acc: 0.6667\n",
      "Epoch 19/100\n",
      "208/208 [==============================] - 3s 12ms/step - loss: 0.0479 - acc: 0.9856 - val_loss: 1.1283 - val_acc: 0.6444\n",
      "Epoch 20/100\n",
      "208/208 [==============================] - 3s 12ms/step - loss: 0.0493 - acc: 0.9856 - val_loss: 1.1522 - val_acc: 0.6556\n",
      "Epoch 21/100\n",
      "208/208 [==============================] - 3s 12ms/step - loss: 0.0498 - acc: 0.9856 - val_loss: 1.1614 - val_acc: 0.6556\n",
      "Epoch 22/100\n",
      "208/208 [==============================] - 3s 12ms/step - loss: 0.0441 - acc: 0.9904 - val_loss: 1.2113 - val_acc: 0.6778\n",
      "Epoch 23/100\n",
      "208/208 [==============================] - 3s 12ms/step - loss: 0.0322 - acc: 0.9952 - val_loss: 1.1416 - val_acc: 0.6444\n",
      "Epoch 24/100\n",
      "208/208 [==============================] - 3s 12ms/step - loss: 0.0358 - acc: 0.9952 - val_loss: 1.1909 - val_acc: 0.6667\n",
      "Epoch 25/100\n",
      "208/208 [==============================] - 3s 12ms/step - loss: 0.0311 - acc: 0.9952 - val_loss: 1.1468 - val_acc: 0.6556\n",
      "Epoch 26/100\n",
      "208/208 [==============================] - 3s 12ms/step - loss: 0.0282 - acc: 0.9952 - val_loss: 1.1843 - val_acc: 0.6667\n",
      "Epoch 27/100\n",
      "208/208 [==============================] - 3s 12ms/step - loss: 0.0275 - acc: 0.9952 - val_loss: 1.1964 - val_acc: 0.6556\n",
      "Epoch 28/100\n",
      "208/208 [==============================] - 3s 12ms/step - loss: 0.0223 - acc: 1.0000 - val_loss: 1.2099 - val_acc: 0.6444\n",
      "Epoch 29/100\n",
      "208/208 [==============================] - 3s 13ms/step - loss: 0.0352 - acc: 0.9952 - val_loss: 1.1562 - val_acc: 0.6556\n",
      "Epoch 30/100\n",
      "208/208 [==============================] - 3s 12ms/step - loss: 0.0263 - acc: 0.9952 - val_loss: 1.2626 - val_acc: 0.6556\n",
      "Epoch 31/100\n",
      "208/208 [==============================] - 3s 12ms/step - loss: 0.0259 - acc: 0.9952 - val_loss: 1.2086 - val_acc: 0.6556\n",
      "Epoch 32/100\n",
      "208/208 [==============================] - 3s 12ms/step - loss: 0.0227 - acc: 0.9952 - val_loss: 1.1915 - val_acc: 0.6667\n",
      "Epoch 33/100\n",
      "208/208 [==============================] - 3s 12ms/step - loss: 0.0278 - acc: 0.9952 - val_loss: 1.1856 - val_acc: 0.6667\n",
      "Epoch 34/100\n",
      "208/208 [==============================] - 3s 12ms/step - loss: 0.0220 - acc: 0.9952 - val_loss: 1.2185 - val_acc: 0.6556\n",
      "Epoch 35/100\n",
      "208/208 [==============================] - 3s 12ms/step - loss: 0.0304 - acc: 0.9952 - val_loss: 1.2686 - val_acc: 0.6333\n",
      "Epoch 36/100\n",
      "208/208 [==============================] - 3s 12ms/step - loss: 0.0252 - acc: 0.9952 - val_loss: 1.3239 - val_acc: 0.6778\n",
      "Epoch 37/100\n",
      "208/208 [==============================] - 3s 12ms/step - loss: 0.0233 - acc: 0.9952 - val_loss: 1.1799 - val_acc: 0.6444\n",
      "Epoch 38/100\n",
      "208/208 [==============================] - 3s 12ms/step - loss: 0.0207 - acc: 0.9904 - val_loss: 1.2505 - val_acc: 0.6556\n",
      "Epoch 39/100\n",
      "208/208 [==============================] - 3s 12ms/step - loss: 0.0214 - acc: 0.9952 - val_loss: 1.2480 - val_acc: 0.6667\n",
      "Epoch 40/100\n",
      "208/208 [==============================] - 3s 12ms/step - loss: 0.0196 - acc: 0.9952 - val_loss: 1.2199 - val_acc: 0.6444\n",
      "Epoch 41/100\n",
      "208/208 [==============================] - 3s 12ms/step - loss: 0.0225 - acc: 0.9952 - val_loss: 1.3037 - val_acc: 0.6667\n",
      "Epoch 42/100\n",
      "208/208 [==============================] - 3s 12ms/step - loss: 0.0288 - acc: 0.9952 - val_loss: 1.3221 - val_acc: 0.6333\n",
      "Epoch 43/100\n",
      "208/208 [==============================] - 3s 12ms/step - loss: 0.0225 - acc: 0.9952 - val_loss: 1.3185 - val_acc: 0.6556\n",
      "Epoch 44/100\n",
      "208/208 [==============================] - 3s 13ms/step - loss: 0.0234 - acc: 0.9904 - val_loss: 1.2162 - val_acc: 0.6444\n",
      "Epoch 45/100\n",
      "208/208 [==============================] - 3s 12ms/step - loss: 0.0297 - acc: 0.9904 - val_loss: 1.2857 - val_acc: 0.6333\n",
      "Epoch 46/100\n",
      "208/208 [==============================] - 3s 12ms/step - loss: 0.0142 - acc: 0.9952 - val_loss: 1.4342 - val_acc: 0.6889\n",
      "Epoch 47/100\n",
      "208/208 [==============================] - 3s 12ms/step - loss: 0.0264 - acc: 0.9952 - val_loss: 1.2284 - val_acc: 0.6444\n",
      "Epoch 48/100\n",
      "208/208 [==============================] - 3s 12ms/step - loss: 0.0359 - acc: 0.9904 - val_loss: 1.3153 - val_acc: 0.6333\n",
      "Epoch 49/100\n",
      "208/208 [==============================] - 3s 12ms/step - loss: 0.0159 - acc: 0.9952 - val_loss: 1.4119 - val_acc: 0.6889\n",
      "Epoch 50/100\n",
      "208/208 [==============================] - 3s 12ms/step - loss: 0.0193 - acc: 0.9952 - val_loss: 1.2535 - val_acc: 0.6444\n",
      "Epoch 51/100\n",
      "208/208 [==============================] - 3s 12ms/step - loss: 0.0173 - acc: 0.9904 - val_loss: 1.2468 - val_acc: 0.6333\n",
      "Epoch 52/100\n",
      "208/208 [==============================] - 3s 12ms/step - loss: 0.0138 - acc: 0.9952 - val_loss: 1.3357 - val_acc: 0.6556\n",
      "Epoch 53/100\n",
      "208/208 [==============================] - 3s 12ms/step - loss: 0.0169 - acc: 0.9952 - val_loss: 1.3798 - val_acc: 0.6556\n",
      "Epoch 54/100\n",
      "208/208 [==============================] - 3s 12ms/step - loss: 0.0158 - acc: 0.9952 - val_loss: 1.3082 - val_acc: 0.6556\n",
      "Epoch 55/100\n",
      "208/208 [==============================] - 3s 13ms/step - loss: 0.0125 - acc: 0.9904 - val_loss: 1.3012 - val_acc: 0.6556\n",
      "Epoch 56/100\n",
      "208/208 [==============================] - 3s 12ms/step - loss: 0.0202 - acc: 0.9952 - val_loss: 1.3269 - val_acc: 0.6778\n",
      "Epoch 57/100\n",
      "208/208 [==============================] - 3s 12ms/step - loss: 0.0117 - acc: 0.9952 - val_loss: 1.3237 - val_acc: 0.6444\n",
      "Epoch 58/100\n",
      "208/208 [==============================] - 3s 13ms/step - loss: 0.0167 - acc: 0.9952 - val_loss: 1.3606 - val_acc: 0.6556\n",
      "Epoch 59/100\n",
      "208/208 [==============================] - 3s 13ms/step - loss: 0.0120 - acc: 0.9904 - val_loss: 1.3766 - val_acc: 0.6667\n",
      "Epoch 60/100\n",
      "208/208 [==============================] - 3s 12ms/step - loss: 0.0113 - acc: 0.9952 - val_loss: 1.3314 - val_acc: 0.6556\n",
      "Epoch 61/100\n",
      "208/208 [==============================] - 3s 12ms/step - loss: 0.0145 - acc: 0.9904 - val_loss: 1.3135 - val_acc: 0.6667\n",
      "Epoch 62/100\n",
      "208/208 [==============================] - 3s 12ms/step - loss: 0.0120 - acc: 0.9952 - val_loss: 1.3275 - val_acc: 0.6444\n",
      "Epoch 63/100\n",
      "208/208 [==============================] - 3s 12ms/step - loss: 0.0120 - acc: 0.9904 - val_loss: 1.3527 - val_acc: 0.6556\n",
      "Epoch 64/100\n",
      "208/208 [==============================] - 3s 12ms/step - loss: 0.0160 - acc: 0.9904 - val_loss: 1.3666 - val_acc: 0.6444\n",
      "Epoch 65/100\n",
      "208/208 [==============================] - 3s 12ms/step - loss: 0.0188 - acc: 0.9904 - val_loss: 1.3452 - val_acc: 0.6667\n",
      "Epoch 66/100\n",
      "208/208 [==============================] - 3s 12ms/step - loss: 0.0122 - acc: 0.9952 - val_loss: 1.3342 - val_acc: 0.6444\n",
      "Epoch 67/100\n",
      "208/208 [==============================] - 3s 12ms/step - loss: 0.0125 - acc: 0.9904 - val_loss: 1.3661 - val_acc: 0.6556\n",
      "Epoch 68/100\n",
      "208/208 [==============================] - 3s 12ms/step - loss: 0.0144 - acc: 0.9952 - val_loss: 1.3784 - val_acc: 0.6556\n",
      "Epoch 69/100\n",
      "208/208 [==============================] - 3s 12ms/step - loss: 0.0202 - acc: 0.9904 - val_loss: 1.3916 - val_acc: 0.6778\n",
      "Epoch 70/100\n",
      "208/208 [==============================] - 3s 12ms/step - loss: 0.0303 - acc: 0.9904 - val_loss: 1.3659 - val_acc: 0.6333\n",
      "Epoch 71/100\n",
      "208/208 [==============================] - 3s 12ms/step - loss: 0.0050 - acc: 1.0000 - val_loss: 1.4581 - val_acc: 0.6778\n",
      "Epoch 72/100\n",
      "208/208 [==============================] - 3s 12ms/step - loss: 0.0274 - acc: 0.9952 - val_loss: 1.3598 - val_acc: 0.6778\n",
      "Epoch 73/100\n",
      "208/208 [==============================] - 3s 12ms/step - loss: 0.0128 - acc: 0.9952 - val_loss: 1.3922 - val_acc: 0.6333\n",
      "Epoch 74/100\n",
      "208/208 [==============================] - 3s 12ms/step - loss: 0.0267 - acc: 0.9952 - val_loss: 1.4662 - val_acc: 0.6444\n",
      "Epoch 75/100\n",
      "208/208 [==============================] - 3s 12ms/step - loss: 0.0278 - acc: 0.9904 - val_loss: 1.5868 - val_acc: 0.6778\n",
      "Epoch 76/100\n",
      "208/208 [==============================] - 3s 12ms/step - loss: 0.0267 - acc: 0.9904 - val_loss: 1.4097 - val_acc: 0.6222\n",
      "Epoch 77/100\n",
      "208/208 [==============================] - 3s 12ms/step - loss: 0.0275 - acc: 0.9952 - val_loss: 1.4113 - val_acc: 0.6444\n",
      "Epoch 78/100\n",
      "208/208 [==============================] - 3s 12ms/step - loss: 0.0124 - acc: 0.9952 - val_loss: 1.4601 - val_acc: 0.6556\n",
      "Epoch 79/100\n",
      "208/208 [==============================] - 3s 12ms/step - loss: 0.0179 - acc: 0.9952 - val_loss: 1.3929 - val_acc: 0.6556\n",
      "Epoch 80/100\n",
      "208/208 [==============================] - 3s 13ms/step - loss: 0.0109 - acc: 0.9952 - val_loss: 1.3493 - val_acc: 0.6333\n",
      "Epoch 81/100\n",
      "208/208 [==============================] - 3s 12ms/step - loss: 0.0102 - acc: 0.9952 - val_loss: 1.4150 - val_acc: 0.6444\n",
      "Epoch 82/100\n",
      "208/208 [==============================] - 3s 12ms/step - loss: 0.0127 - acc: 0.9952 - val_loss: 1.4552 - val_acc: 0.6556\n",
      "Epoch 83/100\n",
      "208/208 [==============================] - 3s 12ms/step - loss: 0.0112 - acc: 0.9904 - val_loss: 1.4531 - val_acc: 0.6667\n",
      "Epoch 84/100\n",
      "208/208 [==============================] - 3s 12ms/step - loss: 0.0092 - acc: 0.9952 - val_loss: 1.3840 - val_acc: 0.6556\n",
      "Epoch 85/100\n",
      "208/208 [==============================] - 3s 12ms/step - loss: 0.0173 - acc: 0.9952 - val_loss: 1.3755 - val_acc: 0.6556\n",
      "Epoch 86/100\n",
      "208/208 [==============================] - 3s 13ms/step - loss: 0.0090 - acc: 0.9952 - val_loss: 1.4332 - val_acc: 0.6333\n",
      "Epoch 87/100\n",
      "208/208 [==============================] - 3s 12ms/step - loss: 0.0179 - acc: 0.9952 - val_loss: 1.4922 - val_acc: 0.6444\n",
      "Epoch 88/100\n",
      "208/208 [==============================] - 3s 13ms/step - loss: 0.0100 - acc: 0.9952 - val_loss: 1.5001 - val_acc: 0.6667\n",
      "Epoch 89/100\n",
      "208/208 [==============================] - 3s 12ms/step - loss: 0.0142 - acc: 0.9952 - val_loss: 1.4051 - val_acc: 0.6556\n",
      "Epoch 90/100\n",
      "208/208 [==============================] - 3s 12ms/step - loss: 0.0117 - acc: 0.9952 - val_loss: 1.3928 - val_acc: 0.6111\n",
      "Epoch 91/100\n",
      "208/208 [==============================] - 3s 12ms/step - loss: 0.0142 - acc: 0.9952 - val_loss: 1.4816 - val_acc: 0.6444\n",
      "Epoch 92/100\n",
      "208/208 [==============================] - 3s 13ms/step - loss: 0.0137 - acc: 0.9904 - val_loss: 1.5243 - val_acc: 0.6778\n",
      "Epoch 93/100\n",
      "208/208 [==============================] - 3s 12ms/step - loss: 0.0117 - acc: 0.9952 - val_loss: 1.4001 - val_acc: 0.6444\n",
      "Epoch 94/100\n",
      "208/208 [==============================] - 3s 12ms/step - loss: 0.0109 - acc: 0.9952 - val_loss: 1.3976 - val_acc: 0.6444\n",
      "Epoch 95/100\n",
      "208/208 [==============================] - 3s 12ms/step - loss: 0.0101 - acc: 0.9952 - val_loss: 1.4490 - val_acc: 0.6444\n",
      "Epoch 96/100\n",
      "208/208 [==============================] - 3s 12ms/step - loss: 0.0185 - acc: 0.9952 - val_loss: 1.5285 - val_acc: 0.6778\n",
      "Epoch 97/100\n",
      "208/208 [==============================] - 3s 12ms/step - loss: 0.0155 - acc: 0.9952 - val_loss: 1.4044 - val_acc: 0.6333\n",
      "Epoch 98/100\n",
      "208/208 [==============================] - 3s 12ms/step - loss: 0.0113 - acc: 0.9952 - val_loss: 1.4556 - val_acc: 0.6444\n",
      "Epoch 99/100\n",
      "208/208 [==============================] - 3s 12ms/step - loss: 0.0096 - acc: 0.9952 - val_loss: 1.4675 - val_acc: 0.6556\n",
      "Epoch 100/100\n",
      "208/208 [==============================] - 3s 12ms/step - loss: 0.0101 - acc: 0.9904 - val_loss: 1.4540 - val_acc: 0.6556\n"
     ]
    },
    {
     "data": {
      "text/plain": [
       "<keras.callbacks.History at 0x7fa33304f358>"
      ]
     },
     "execution_count": 20,
     "metadata": {
      "tags": []
     },
     "output_type": "execute_result"
    }
   ],
   "source": [
    "# training the model\n",
    "\n",
    "model.fit(train, Y_train, epochs=100, validation_data=(X_valid, Y_valid))"
   ]
  },
  {
   "cell_type": "code",
   "execution_count": 26,
   "metadata": {
    "colab": {
     "base_uri": "https://localhost:8080/",
     "height": 34
    },
    "colab_type": "code",
    "id": "s-0MjPk3ct7C",
    "outputId": "8daf9d82-ac7f-4a18-83c9-bcb1b33b1d41"
   },
   "outputs": [
    {
     "name": "stdout",
     "output_type": "stream",
     "text": [
      "/content/drive/My Drive/Colab Notebooks\n"
     ]
    }
   ],
   "source": [
    "cd ../"
   ]
  },
  {
   "cell_type": "code",
   "execution_count": 27,
   "metadata": {
    "colab": {
     "base_uri": "https://localhost:8080/",
     "height": 34
    },
    "colab_type": "code",
    "id": "c1JDjHWuJhya",
    "outputId": "162f428a-d839-46f6-9b5a-df155e0b8871"
   },
   "outputs": [
    {
     "name": "stdout",
     "output_type": "stream",
     "text": [
      "/content/drive/My Drive/Colab Notebooks/TEST\n"
     ]
    }
   ],
   "source": [
    "cd TEST"
   ]
  },
  {
   "cell_type": "code",
   "execution_count": 29,
   "metadata": {
    "colab": {
     "base_uri": "https://localhost:8080/",
     "height": 257
    },
    "colab_type": "code",
    "id": "-BxXbYGwrPsO",
    "outputId": "d43e6a8d-afda-4e30-f789-eaea1efcc62d"
   },
   "outputs": [
    {
     "data": {
      "text/plain": [
       "<matplotlib.image.AxesImage at 0x7fa3324f40b8>"
      ]
     },
     "execution_count": 29,
     "metadata": {
      "tags": []
     },
     "output_type": "execute_result"
    },
    {
     "data": {
      "image/png": "[encoded data removed]",
      "text/plain": [
       "<Figure size 432x288 with 1 Axes>"
      ]
     },
     "metadata": {
      "tags": []
     },
     "output_type": "display_data"
    }
   ],
   "source": [
    "img = plt.imread('test0.jpg')   # reading image using its name\n",
    "plt.imshow(img)"
   ]
  },
  {
   "cell_type": "code",
   "execution_count": 0,
   "metadata": {
    "colab": {},
    "colab_type": "code",
    "id": "RAZzKARCrGAJ"
   },
   "outputs": [],
   "source": [
    "cols_list = [\"Frame_ID\", \"Emotion\"]\n",
    "\n",
    "test = pd.read_csv(\"Test.csv\")\n",
    "\n"
   ]
  },
  {
   "cell_type": "code",
   "execution_count": 31,
   "metadata": {
    "colab": {
     "base_uri": "https://localhost:8080/",
     "height": 204
    },
    "colab_type": "code",
    "id": "QeGeEWm9rqvv",
    "outputId": "06b3b233-cc0a-48cb-cd10-d64ae2c4d747"
   },
   "outputs": [
    {
     "data": {
      "text/html": [
       "<div>\n",
       "<style scoped>\n",
       "    .dataframe tbody tr th:only-of-type {\n",
       "        vertical-align: middle;\n",
       "    }\n",
       "\n",
       "    .dataframe tbody tr th {\n",
       "        vertical-align: top;\n",
       "    }\n",
       "\n",
       "    .dataframe thead th {\n",
       "        text-align: right;\n",
       "    }\n",
       "</style>\n",
       "<table border=\"1\" class=\"dataframe\">\n",
       "  <thead>\n",
       "    <tr style=\"text-align: right;\">\n",
       "      <th></th>\n",
       "      <th>Frame_ID</th>\n",
       "    </tr>\n",
       "  </thead>\n",
       "  <tbody>\n",
       "    <tr>\n",
       "      <th>0</th>\n",
       "      <td>test0.jpg</td>\n",
       "    </tr>\n",
       "    <tr>\n",
       "      <th>1</th>\n",
       "      <td>test1.jpg</td>\n",
       "    </tr>\n",
       "    <tr>\n",
       "      <th>2</th>\n",
       "      <td>test2.jpg</td>\n",
       "    </tr>\n",
       "    <tr>\n",
       "      <th>3</th>\n",
       "      <td>test3.jpg</td>\n",
       "    </tr>\n",
       "    <tr>\n",
       "      <th>4</th>\n",
       "      <td>test4.jpg</td>\n",
       "    </tr>\n",
       "  </tbody>\n",
       "</table>\n",
       "</div>"
      ],
      "text/plain": [
       "    Frame_ID\n",
       "0  test0.jpg\n",
       "1  test1.jpg\n",
       "2  test2.jpg\n",
       "3  test3.jpg\n",
       "4  test4.jpg"
      ]
     },
     "execution_count": 31,
     "metadata": {
      "tags": []
     },
     "output_type": "execute_result"
    }
   ],
   "source": [
    "test.head()"
   ]
  },
  {
   "cell_type": "code",
   "execution_count": 0,
   "metadata": {
    "colab": {},
    "colab_type": "code",
    "id": "VnsDqCi-t3aO"
   },
   "outputs": [],
   "source": [
    "test_image = []\n",
    "for img_name in test[\"Frame_ID\"]:\n",
    "    img = plt.imread('' + img_name)\n",
    "    test_image.append(img)\n",
    "test_img = np.array(test_image)"
   ]
  },
  {
   "cell_type": "code",
   "execution_count": 0,
   "metadata": {
    "colab": {},
    "colab_type": "code",
    "id": "9izaQCxasg_C"
   },
   "outputs": [],
   "source": [
    "test_image = []\n",
    "for i in range(0,test_img.shape[0]):\n",
    "    a = resize(test_img[i], preserve_range=True, output_shape=(224,224)).astype(int)\n",
    "    test_image.append(a)\n",
    "test_image = np.array(test_image)"
   ]
  },
  {
   "cell_type": "code",
   "execution_count": 40,
   "metadata": {
    "colab": {
     "base_uri": "https://localhost:8080/",
     "height": 34
    },
    "colab_type": "code",
    "id": "y1LWYGw9w1l6",
    "outputId": "c453d982-a60c-482a-9c79-919cc0c984f2"
   },
   "outputs": [
    {
     "name": "stdout",
     "output_type": "stream",
     "text": [
      "(186, 224, 224, 3)\n"
     ]
    }
   ],
   "source": [
    "print(np.shape(test_image))"
   ]
  },
  {
   "cell_type": "code",
   "execution_count": 0,
   "metadata": {
    "colab": {},
    "colab_type": "code",
    "id": "5QsCsg8XuSjW"
   },
   "outputs": [],
   "source": [
    "# preprocessing the images\n",
    "test_image = preprocess_input(test_image, mode='tf')\n",
    "\n",
    "# extracting features from the images using pretrained model\n",
    "test_image = base_model.predict(test_image)\n",
    "\n",
    "# converting the images to 1-D form\n",
    "test_image = test_image.reshape(186, 7*7*512)\n",
    "\n",
    "# zero centered images\n",
    "test_image = test_image/test_image.max()"
   ]
  },
  {
   "cell_type": "code",
   "execution_count": 0,
   "metadata": {
    "colab": {},
    "colab_type": "code",
    "id": "Su0VJi3IvJm-"
   },
   "outputs": [],
   "source": [
    "prediction = model.predict_classes(test_image)"
   ]
  },
  {
   "cell_type": "code",
   "execution_count": 56,
   "metadata": {
    "colab": {
     "base_uri": "https://localhost:8080/",
     "height": 170
    },
    "colab_type": "code",
    "id": "L4bqcliZzecQ",
    "outputId": "bd98dc8c-962c-4b55-ebe7-7b8ded9410f0"
   },
   "outputs": [
    {
     "data": {
      "text/plain": [
       "array([4, 4, 4, 4, 1, 4, 4, 2, 2, 2, 4, 4, 1, 1, 4, 4, 2, 2, 4, 4, 2, 2,\n",
       "       2, 2, 1, 4, 2, 4, 4, 4, 4, 4, 1, 4, 4, 2, 4, 4, 4, 1, 1, 4, 4, 4,\n",
       "       4, 4, 4, 4, 2, 4, 1, 1, 1, 4, 4, 4, 1, 2, 2, 2, 2, 1, 4, 4, 4, 4,\n",
       "       4, 2, 4, 1, 1, 4, 4, 4, 4, 1, 4, 1, 2, 4, 1, 1, 1, 3, 4, 1, 1, 2,\n",
       "       2, 2, 2, 1, 4, 4, 4, 4, 4, 4, 4, 4, 2, 4, 4, 2, 2, 2, 4, 4, 2, 1,\n",
       "       2, 4, 2, 2, 2, 4, 2, 1, 2, 2, 1, 4, 4, 4, 1, 4, 4, 4, 1, 4, 2, 2,\n",
       "       2, 4, 4, 4, 4, 4, 4, 4, 4, 4, 4, 4, 2, 2, 4, 4, 4, 1, 4, 1, 4, 4,\n",
       "       4, 1, 4, 2, 4, 4, 4, 4, 4, 4, 4, 4, 4, 4, 4, 4, 4, 4, 1, 4, 4, 1,\n",
       "       4, 4, 4, 4, 4, 4, 4, 3, 1, 1])"
      ]
     },
     "execution_count": 56,
     "metadata": {
      "tags": []
     },
     "output_type": "execute_result"
    }
   ],
   "source": [
    "prediction"
   ]
  },
  {
   "cell_type": "code",
   "execution_count": 0,
   "metadata": {
    "colab": {},
    "colab_type": "code",
    "id": "t0dh70WJzwYg"
   },
   "outputs": [],
   "source": [
    "'''\n",
    "\n",
    "1 Angry\n",
    "2 Happy\n",
    "3 Sad\n",
    "4 Surprised\n",
    "5 Unknown\n",
    "\n",
    "'''\n",
    "emotion = ''\n",
    "result = []\n",
    "for i in prediction:\n",
    "    if i == 1:\n",
    "        emotion = 'angry'\n",
    "    if i == 2:\n",
    "        emotion = 'happy'\n",
    "    if i == 3:\n",
    "        emotion = 'sad'\n",
    "    if i == 4:\n",
    "        emotion = 'surprised'\n",
    "    if i == 5:\n",
    "        emotion = 'unknown'\n",
    "\n",
    "    result.append(emotion)\n"
   ]
  },
  {
   "cell_type": "code",
   "execution_count": 0,
   "metadata": {
    "colab": {},
    "colab_type": "code",
    "id": "w6MTmrxiN4ah"
   },
   "outputs": [],
   "source": [
    "test[\"Emotion\"] = result"
   ]
  },
  {
   "cell_type": "code",
   "execution_count": 59,
   "metadata": {
    "colab": {
     "base_uri": "https://localhost:8080/",
     "height": 204
    },
    "colab_type": "code",
    "id": "Jg3-66KsN50V",
    "outputId": "eafb1113-1c44-47ad-b215-ccccec96b606"
   },
   "outputs": [
    {
     "data": {
      "text/html": [
       "<div>\n",
       "<style scoped>\n",
       "    .dataframe tbody tr th:only-of-type {\n",
       "        vertical-align: middle;\n",
       "    }\n",
       "\n",
       "    .dataframe tbody tr th {\n",
       "        vertical-align: top;\n",
       "    }\n",
       "\n",
       "    .dataframe thead th {\n",
       "        text-align: right;\n",
       "    }\n",
       "</style>\n",
       "<table border=\"1\" class=\"dataframe\">\n",
       "  <thead>\n",
       "    <tr style=\"text-align: right;\">\n",
       "      <th></th>\n",
       "      <th>Frame_ID</th>\n",
       "      <th>Emotion</th>\n",
       "    </tr>\n",
       "  </thead>\n",
       "  <tbody>\n",
       "    <tr>\n",
       "      <th>0</th>\n",
       "      <td>test0.jpg</td>\n",
       "      <td>surprised</td>\n",
       "    </tr>\n",
       "    <tr>\n",
       "      <th>1</th>\n",
       "      <td>test1.jpg</td>\n",
       "      <td>surprised</td>\n",
       "    </tr>\n",
       "    <tr>\n",
       "      <th>2</th>\n",
       "      <td>test2.jpg</td>\n",
       "      <td>surprised</td>\n",
       "    </tr>\n",
       "    <tr>\n",
       "      <th>3</th>\n",
       "      <td>test3.jpg</td>\n",
       "      <td>surprised</td>\n",
       "    </tr>\n",
       "    <tr>\n",
       "      <th>4</th>\n",
       "      <td>test4.jpg</td>\n",
       "      <td>angry</td>\n",
       "    </tr>\n",
       "  </tbody>\n",
       "</table>\n",
       "</div>"
      ],
      "text/plain": [
       "    Frame_ID    Emotion\n",
       "0  test0.jpg  surprised\n",
       "1  test1.jpg  surprised\n",
       "2  test2.jpg  surprised\n",
       "3  test3.jpg  surprised\n",
       "4  test4.jpg      angry"
      ]
     },
     "execution_count": 59,
     "metadata": {
      "tags": []
     },
     "output_type": "execute_result"
    }
   ],
   "source": [
    "test.head()"
   ]
  },
  {
   "cell_type": "code",
   "execution_count": 0,
   "metadata": {
    "colab": {},
    "colab_type": "code",
    "id": "RYcZ4tdHOfXi"
   },
   "outputs": [],
   "source": [
    "my_df = pd.DataFrame(test)\n",
    "my_df.to_csv('Test.csv', index=False, header=False)"
   ]
  },
  {
   "cell_type": "code",
   "execution_count": 0,
   "metadata": {
    "colab": {},
    "colab_type": "code",
    "id": "H-LIi4DzPEtv"
   },
   "outputs": [],
   "source": []
  }
 ],
 "metadata": {
  "colab": {
   "authorship_tag": "ABX9TyMudsYuUwBmf7ceCCxr6UfD",
   "collapsed_sections": [],
   "include_colab_link": true,
   "name": "hackerearth-deep-learning-challenge-emotion-detection-tom-jerry-cartoon.ipynb",
   "provenance": []
  },
  "kernelspec": {
   "display_name": "Python 3",
   "language": "python",
   "name": "python3"
  },
  "language_info": {
   "codemirror_mode": {
    "name": "ipython",
    "version": 3
   },
   "file_extension": ".py",
   "mimetype": "text/x-python",
   "name": "python",
   "nbconvert_exporter": "python",
   "pygments_lexer": "ipython3",
   "version": "3.7.6"
  }
 },
 "nbformat": 4,
 "nbformat_minor": 1
}
